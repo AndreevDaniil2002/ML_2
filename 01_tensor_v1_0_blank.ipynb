{
 "cells": [
  {
   "cell_type": "code",
   "execution_count": 1,
   "metadata": {
    "id": "b3AW8rF-1RC9"
   },
   "outputs": [],
   "source": [
    "import torch"
   ]
  },
  {
   "cell_type": "markdown",
   "source": [
    "1.1.1 Создайте двумерный тензор размера (8, 8). Используя как можно меньше операций, добейтесь расстановки кодов \"шахматных фигур\".\n",
    "\n",
    "Ожидаемый результат:\n",
    "\n",
    "```\n",
    "[[-4., -3., -2., -6., -5., -2., -3., -4.],\n",
    " [-1., -1., -1., -1., -1., -1., -1., -1.],\n",
    " [0., 0., 0., 0., 0., 0., 0., 0.],\n",
    " [0., 0., 0., 0., 0., 0., 0., 0.],\n",
    " [0., 0., 0., 0., 0., 0., 0., 0.],\n",
    " [0., 0., 0., 0., 0., 0., 0., 0.],\n",
    " [1., 1., 1., 1., 1., 1., 1., 1.],\n",
    " [4., 3., 2., 6., 5., 2., 3., 4.]]\n",
    "\n",
    "```"
   ],
   "metadata": {
    "collapsed": false
   }
  },
  {
   "cell_type": "code",
   "execution_count": 2,
   "outputs": [
    {
     "name": "stderr",
     "output_type": "stream",
     "text": [
      "C:\\Users\\adany\\AppData\\Local\\Temp\\ipykernel_10840\\732964940.py:1: UserWarning: Failed to initialize NumPy: module compiled against API version 0x10 but this version of numpy is 0xf (Triggered internally at ..\\torch\\csrc\\utils\\tensor_numpy.cpp:77.)\n",
      "  x = torch.zeros(8,8)\n"
     ]
    },
    {
     "data": {
      "text/plain": "tensor([[-4., -3., -2., -6., -5., -2., -3., -4.],\n        [-1., -1., -1., -1., -1., -1., -1., -1.],\n        [ 0.,  0.,  0.,  0.,  0.,  0.,  0.,  0.],\n        [ 0.,  0.,  0.,  0.,  0.,  0.,  0.,  0.],\n        [ 0.,  0.,  0.,  0.,  0.,  0.,  0.,  0.],\n        [ 0.,  0.,  0.,  0.,  0.,  0.,  0.,  0.],\n        [ 1.,  1.,  1.,  1.,  1.,  1.,  1.,  1.],\n        [ 4.,  3.,  2.,  6.,  5.,  2.,  3.,  4.]])"
     },
     "execution_count": 2,
     "metadata": {},
     "output_type": "execute_result"
    }
   ],
   "source": [
    "x = torch.zeros(8,8)\n",
    "arr = torch.Tensor([-4.0, -3.0, -2.0, -6.0, -5.0, -2.0, -3.0, -4.0])\n",
    "x[1] = -1\n",
    "x[6] = 1\n",
    "x[0] = arr\n",
    "x[7] = -arr\n",
    "\n",
    "x"
   ],
   "metadata": {
    "collapsed": false
   }
  },
  {
   "cell_type": "markdown",
   "metadata": {
    "id": "20x5RE1V1RC_"
   },
   "source": [
    "1.1.2 Средствами `torch` рассчитать произведения четных чисел от 2 до 20 на ближайшие к ним бОльшие нечетные числа."
   ]
  },
  {
   "cell_type": "markdown",
   "metadata": {
    "id": "N_-t5GRM1RC_"
   },
   "source": [
    "1.1.3 Создать тензор размера 11x7 вида: [[1, 2, 3, ..., 7], [11, 12, 13, ..., 17], [21, 22, 23, ..., 27], ..., [101, 102, 103, ..., 107]]"
   ]
  },
  {
   "cell_type": "markdown",
   "metadata": {
    "id": "oxVeUiHR1RC_"
   },
   "source": [
    "1.1.4 Написать функцию, которая для целых значений `n` и `m` будет возвращать тензор размера `n`x`m`, заполненный текстурой размера 2x2, состоящей из следующих значений:\n",
    "\n",
    "```\n",
    "0 1\n",
    "\n",
    "2 3\n",
    "\n",
    "```\n",
    "\n",
    "Пример для n = 4 и m = 5:\n",
    "\n",
    "```\n",
    "0 1 0 1 0\n",
    "\n",
    "2 3 2 3 2\n",
    "\n",
    "0 1 0 1 0\n",
    "\n",
    "2 3 2 3 2\n",
    "```"
   ]
  },
  {
   "cell_type": "markdown",
   "metadata": {
    "id": "WH9hxJse1RDA"
   },
   "source": [
    "1.1.5 Сгенерировать двумерный тензор `t` размерности (4, 7), состоящий из случайных действительных чисел, равномерно распределенных в дипазоне от 0 до 20. Нормализовать значения массива с помощью преобразования вида $ax+b$ так, что после нормализации максимальный элемент масива будет равен 1.0, минимальный 0.0"
   ]
  },
  {
   "cell_type": "markdown",
   "metadata": {
    "id": "vPqIeewXB-mM"
   },
   "source": [
    "[Random Sampling](https://pytorch.org/docs/stable/torch.html#random-sampling)\n",
    "\n",
    "[Distributions](https://pytorch.org/docs/stable/distributions.html)"
   ]
  },
  {
   "cell_type": "markdown",
   "metadata": {
    "id": "K_R6cwq11RDE"
   },
   "source": [
    "1.1.6 Задать два двумерных тензора `ar1` и `ar2` размерности (4, 7), состоящих из случайных целых чисел в пределах от 0 до 10. Построить двумерный тензор размерности (4, 7), каждый элемент которого представляет собой максимум из двух значений, находящихся на аналогичной позиции в массивах `ar1`, `ar2`.\n",
    "\n",
    "[Reductions ops](https://pytorch.org/docs/stable/torch.html#reduction-ops)"
   ]
  },
  {
   "cell_type": "markdown",
   "metadata": {
    "id": "x6zmMhyKBPWQ"
   },
   "source": [
    "1.1.7 Создать тензор из 20 случайных целых чисел от 0 до 100. Получить второе сверху значение в тензоре. Определить индекс этого значения."
   ]
  },
  {
   "cell_type": "code",
   "execution_count": 8,
   "outputs": [
    {
     "name": "stdout",
     "output_type": "stream",
     "text": [
      "tensor([55,  4, 12, 60, 99, 94,  8,  1, 95, 11, 39, 20, 25, 39, 61, 89, 25, 69,\n",
      "        44, 92])\n",
      "tensor(95)\n"
     ]
    },
    {
     "data": {
      "text/plain": "tensor(8)"
     },
     "execution_count": 8,
     "metadata": {},
     "output_type": "execute_result"
    }
   ],
   "source": [
    "arr = torch.randint(0, 101, size=[20])\n",
    "print(arr)\n",
    "print(arr.sort().values[-2])\n",
    "result = arr.sort().indices[-2]\n",
    "result"
   ],
   "metadata": {
    "collapsed": false
   }
  },
  {
   "cell_type": "markdown",
   "metadata": {
    "id": "Xshsy8fD1RDE"
   },
   "source": [
    "## 1.2 Распространение"
   ]
  },
  {
   "cell_type": "markdown",
   "metadata": {
    "id": "jlP22HAJCo28"
   },
   "source": [
    "[Numpy broadcasting](https://numpy.org/devdocs/user/theory.broadcasting.html)\n",
    "\n",
    "[Torch broadcasting](https://pytorch.org/docs/stable/notes/broadcasting.html)"
   ]
  },
  {
   "cell_type": "markdown",
   "metadata": {
    "id": "uRD6-8Gd1RDF"
   },
   "source": [
    "1.2.1 Создать тензор 11x7 вида: `[[1, 2, 3, ..., 7], [11, 12, 13, ..., 17], [21, 22, 23, ..., 27], ..., [101, 102, 103, ..., 107]]`. При решении задачи применить технику распространения."
   ]
  },
  {
   "cell_type": "code",
   "execution_count": 9,
   "outputs": [
    {
     "name": "stdout",
     "output_type": "stream",
     "text": [
      "tensor([1, 2, 3, 4, 5, 6, 7])\n",
      "tensor([[  0],\n",
      "        [ 10],\n",
      "        [ 20],\n",
      "        [ 30],\n",
      "        [ 40],\n",
      "        [ 50],\n",
      "        [ 60],\n",
      "        [ 70],\n",
      "        [ 80],\n",
      "        [ 90],\n",
      "        [100]])\n"
     ]
    },
    {
     "data": {
      "text/plain": "tensor([[  1,   2,   3,   4,   5,   6,   7],\n        [ 11,  12,  13,  14,  15,  16,  17],\n        [ 21,  22,  23,  24,  25,  26,  27],\n        [ 31,  32,  33,  34,  35,  36,  37],\n        [ 41,  42,  43,  44,  45,  46,  47],\n        [ 51,  52,  53,  54,  55,  56,  57],\n        [ 61,  62,  63,  64,  65,  66,  67],\n        [ 71,  72,  73,  74,  75,  76,  77],\n        [ 81,  82,  83,  84,  85,  86,  87],\n        [ 91,  92,  93,  94,  95,  96,  97],\n        [101, 102, 103, 104, 105, 106, 107]])"
     },
     "execution_count": 9,
     "metadata": {},
     "output_type": "execute_result"
    }
   ],
   "source": [
    "first_items = torch.arange(1, 8, step=1)\n",
    "print(first_items)\n",
    "second_items = torch.arange(0, 101, step=10).reshape(-1, 1)\n",
    "print(second_items)\n",
    "first_items + second_items"
   ],
   "metadata": {
    "collapsed": false
   }
  },
  {
   "cell_type": "markdown",
   "metadata": {
    "id": "iSY9Iday1RDF"
   },
   "source": [
    "1.2.2 Вычесть одномерный тензор `b_1d` из двухмерного тензора `a_2d`, так, чтобы каждый элемент одномерного тензора вычитался из всех элементов соответствующих строк двумерного тензора.\n",
    "\n",
    "_Пример:_\n",
    "\n",
    "Для входа:\n",
    "```python\n",
    "a_2d = np.array([[3,3,3],[4,4,4],[5,5,5]])\n",
    "b_1d = np.array([1,2,3])\n",
    "```\n",
    "\n",
    "Ожидается резульат:\n",
    "\n",
    "```python\n",
    "[[2 2 2]\n",
    " [2 2 2]\n",
    " [2 2 2]]\n",
    "```"
   ]
  },
  {
   "cell_type": "code",
   "execution_count": 10,
   "outputs": [
    {
     "data": {
      "text/plain": "tensor([[2, 2, 2],\n        [2, 2, 2],\n        [2, 2, 2]])"
     },
     "execution_count": 10,
     "metadata": {},
     "output_type": "execute_result"
    }
   ],
   "source": [
    "b_1d = torch.tensor([1,2,3])\n",
    "a_2d = torch.tensor([[3,3,3],[4,4,4],[5,5,5]])\n",
    "res = a_2d - b_1d.reshape(b_1d.size()[0], 1)\n",
    "res"
   ],
   "metadata": {
    "collapsed": false
   }
  },
  {
   "cell_type": "code",
   "execution_count": 17,
   "outputs": [],
   "source": [
    "import numpy"
   ],
   "metadata": {
    "collapsed": false
   }
  },
  {
   "cell_type": "markdown",
   "metadata": {
    "id": "dFTvPsY91RDF"
   },
   "source": [
    "## 1.3 Индексы, маскирование и прихотливое индексирование\n",
    "\n",
    "[Документация по функциям для работы с индексами](https://pytorch.org/docs/stable/torch.html#indexing-slicing-joining-mutating-ops)"
   ]
  },
  {
   "cell_type": "markdown",
   "metadata": {
    "id": "McYtDYhH1RDG"
   },
   "source": [
    "1.3.1 Получить индексы, для которых элементы тензоров `a` и `b` совпадают.\n",
    "\n",
    "_Пример:_\n",
    "\n",
    "Для входа:\n",
    "```python\n",
    "a = np.array([1,2,3,2,3,4,3,4,5,6])\n",
    "b = np.array([7,2,10,2,7,4,9,4,9,8])\n",
    "```\n",
    "\n",
    "Ожидается резульат:\n",
    "\n",
    "```python\n",
    "array([1, 3, 5, 7])\n",
    "```"
   ]
  },
  {
   "cell_type": "code",
   "execution_count": 18,
   "outputs": [
    {
     "data": {
      "text/plain": "[tensor(1), tensor(3), tensor(5), tensor(7)]"
     },
     "execution_count": 18,
     "metadata": {},
     "output_type": "execute_result"
    }
   ],
   "source": [
    "a = torch.tensor([1,2,3,2,3,4,3,4,5,6])\n",
    "b = torch.tensor([7,2,10,2,7,4,9,4,9,8])\n",
    "\n",
    "res = (a == b).nonzero(as_tuple=True)\n",
    "list(res[0])"
   ],
   "metadata": {
    "collapsed": false
   }
  },
  {
   "cell_type": "markdown",
   "metadata": {
    "id": "MnBq3nfy1RDG"
   },
   "source": [
    "1.3.2 Инвертировать порядок элементов в двумерном тензоре `torch.arange(9).view(3,3)`.\n",
    "\n",
    "Ожидаемый результат:\n",
    "\n",
    "\n",
    "```python\n",
    "array([[8, 7, 6],\n",
    "       [5, 4, 3],\n",
    "       [2, 1, 0]])\n",
    "```"
   ]
  },
  {
   "cell_type": "code",
   "execution_count": 20,
   "outputs": [
    {
     "data": {
      "text/plain": "tensor([[8, 7, 6],\n        [5, 4, 3],\n        [2, 1, 0]])"
     },
     "execution_count": 20,
     "metadata": {},
     "output_type": "execute_result"
    }
   ],
   "source": [
    "arr = torch.arange(9).view(3,3)\n",
    "arr = arr.flip(1).flip(0)\n",
    "arr"
   ],
   "metadata": {
    "collapsed": false
   }
  },
  {
   "cell_type": "markdown",
   "metadata": {
    "id": "tANsLnOC1RDH"
   },
   "source": [
    "1.3.3 Из входного тензора a получить только элементы, находящиеся в диапазоне от 5 до 10.\n",
    "\n",
    "_Пример:_\n",
    "\n",
    "Для входа:\n",
    "```python\n",
    "a = np.array([2, 6, 1, 9, 10, 3, 27])\n",
    "```\n",
    "\n",
    "Ожидается резульат:\n",
    "\n",
    "```python\n",
    "array([6, 9, 10])\n",
    "```"
   ]
  },
  {
   "cell_type": "code",
   "execution_count": 21,
   "outputs": [
    {
     "data": {
      "text/plain": "tensor([ 6,  9, 10])"
     },
     "execution_count": 21,
     "metadata": {},
     "output_type": "execute_result"
    }
   ],
   "source": [
    "a = torch.tensor([2, 6, 1, 9, 10, 3, 27])\n",
    "mask = (a >= 5) & (a <= 10)\n",
    "res = a[mask]\n",
    "res"
   ],
   "metadata": {
    "collapsed": false
   }
  },
  {
   "cell_type": "markdown",
   "metadata": {
    "id": "3vlK0gV21RDH"
   },
   "source": [
    "1.3.4 Поменять местами столбец 1 и 2 тензора `np.arange(9).reshape(3,3)`"
   ]
  },
  {
   "cell_type": "code",
   "execution_count": 22,
   "outputs": [
    {
     "name": "stdout",
     "output_type": "stream",
     "text": [
      "tensor([[0, 1, 2],\n",
      "        [3, 4, 5],\n",
      "        [6, 7, 8]])\n"
     ]
    },
    {
     "data": {
      "text/plain": "tensor([[0, 2, 1],\n        [3, 5, 4],\n        [6, 8, 7]])"
     },
     "execution_count": 22,
     "metadata": {},
     "output_type": "execute_result"
    }
   ],
   "source": [
    "res = torch.arange(9).reshape(3,3)\n",
    "print(res)\n",
    "res = res[:, [0, 2, 1]]\n",
    "res"
   ],
   "metadata": {
    "collapsed": false
   }
  },
  {
   "cell_type": "markdown",
   "metadata": {
    "id": "cheFtWhU1RDH"
   },
   "source": [
    "1.3.5 Создать тензор 8 на 10 из случайных целых чисел из диапазона от 0 до 10 и найти в ней строку (ее индекс и вывести саму строку), в которой сумма значений минимальна."
   ]
  },
  {
   "cell_type": "code",
   "execution_count": 23,
   "outputs": [
    {
     "name": "stdout",
     "output_type": "stream",
     "text": [
      "tensor([[ 2,  0,  9,  5,  9,  1,  1,  1,  5, 10],\n",
      "        [ 2,  0,  4,  0,  1,  1,  4, 10,  4,  7],\n",
      "        [ 8,  0,  7,  4,  6,  6,  6,  7,  6,  5],\n",
      "        [ 8,  9,  0,  3,  0,  3,  2,  3,  5,  1],\n",
      "        [ 8,  7,  2,  5,  1,  9,  3,  9,  0,  6],\n",
      "        [ 8,  8, 10,  5,  8, 10,  6,  6,  8,  0],\n",
      "        [ 2,  1, 10,  9,  7, 10,  4,  3,  0,  4],\n",
      "        [ 5,  7,  3,  6,  0, 10,  7,  6,  2,  5]])\n",
      "1\n"
     ]
    },
    {
     "data": {
      "text/plain": "tensor([ 2,  0,  4,  0,  1,  1,  4, 10,  4,  7])"
     },
     "execution_count": 23,
     "metadata": {},
     "output_type": "execute_result"
    }
   ],
   "source": [
    "arr = torch.randint(0, 11, size=[8, 10])\n",
    "print(arr)\n",
    "item_index = arr.sum(axis=1).min(axis=0).indices.item()\n",
    "print(item_index)\n",
    "res = arr[item_index]\n",
    "res"
   ],
   "metadata": {
    "collapsed": false
   }
  },
  {
   "cell_type": "markdown",
   "metadata": {
    "id": "grOCNU4XFE2B"
   },
   "source": [
    "1.3.6 Cоздать тензор из 20 случайных целых чисел от 0 до 100. Обрезать значения тензора (заменить значения, выходящие за диапазон, на крайние значения) снизу по значению 30, сверху по значению 70."
   ]
  },
  {
   "cell_type": "code",
   "execution_count": 24,
   "outputs": [
    {
     "name": "stdout",
     "output_type": "stream",
     "text": [
      "tensor([62, 85, 80, 47, 79, 72, 86,  5, 41, 59, 34, 41, 33, 46, 93, 39,  0, 73,\n",
      "        10, 99])\n",
      "tensor([62, 85, 80, 47, 79, 72, 86, 30, 41, 59, 34, 41, 33, 46, 93, 39, 30, 73,\n",
      "        30, 99])\n"
     ]
    },
    {
     "data": {
      "text/plain": "tensor([62, 70, 70, 47, 70, 70, 70, 30, 41, 59, 34, 41, 33, 46, 70, 39, 30, 70,\n        30, 70])"
     },
     "execution_count": 24,
     "metadata": {},
     "output_type": "execute_result"
    }
   ],
   "source": [
    "res = torch.randint(0, 101, size=[20])\n",
    "print(res)\n",
    "res[(res < 30)] = 30\n",
    "print(res)\n",
    "res[(res > 70)] = 70\n",
    "res"
   ],
   "metadata": {
    "collapsed": false
   }
  },
  {
   "cell_type": "markdown",
   "metadata": {
    "id": "HNfQjY8P1RDI"
   },
   "source": [
    "1.3.7 Создать два тензора размера 30 на 3 из случайных целых чисел из диапазона от 0 до 10 и найти все значения первого тензора, которые больше соответсвующих (по расположению) значений второго тензора. Подсчитать сумму этих значений."
   ]
  },
  {
   "cell_type": "code",
   "execution_count": 26,
   "outputs": [
    {
     "name": "stdout",
     "output_type": "stream",
     "text": [
      "tensor([ 2,  2,  2,  5,  9,  7,  7,  6,  7, 10,  9,  8,  5,  8,  7,  9,  9,  2,\n",
      "         3,  9,  9,  8,  6,  5,  2,  8,  9,  4,  5,  9, 10,  9,  8,  5, 10,  6,\n",
      "         5,  7,  5,  9,  8])\n",
      "273\n"
     ]
    }
   ],
   "source": [
    "a1 = torch.randint(0, 11, size=[30, 3])\n",
    "a2 = torch.randint(0, 11, size=[30, 3])\n",
    "\n",
    "mask = a1 > a2\n",
    "print(a1[mask])\n",
    "\n",
    "res = a1[mask].sum().item()\n",
    "print(res)"
   ],
   "metadata": {
    "collapsed": false
   }
  },
  {
   "cell_type": "markdown",
   "metadata": {
    "id": "doBCxYJA1RDI"
   },
   "source": [
    "1.3.8 При помощи прихотливого индексирования для двухмерного массива размерности (20, 20), состоящего из случайных целых чисел в пределах от 0 до 10 получить массив элементов находящихся на диагонали, проходящей над основной диагональю."
   ]
  },
  {
   "cell_type": "code",
   "execution_count": 28,
   "outputs": [
    {
     "name": "stdout",
     "output_type": "stream",
     "text": [
      "tensor([4, 5, 0, 0, 5, 7, 9, 3, 9, 5, 5, 9, 6, 9, 0, 9, 8, 6, 4])\n"
     ]
    }
   ],
   "source": [
    "res = torch.randint(0, 11, size=[20, 20])\n",
    "print(res[torch.arange(19), torch.arange(19) +1])"
   ],
   "metadata": {
    "collapsed": false
   }
  },
  {
   "cell_type": "markdown",
   "metadata": {
    "id": "6M1lkfLp1RDJ"
   },
   "source": [
    "1.3.9 Задать два двухмерных тензора `ar1` и `ar2` размерности (5, 10), состоящих из случайных целых чисел в пределах от 0 до 10. Удвоить все значения `ar1`, которые совпадают со значениями `ar2`, расположенными на аналогичных позициях."
   ]
  },
  {
   "cell_type": "code",
   "execution_count": 30,
   "outputs": [
    {
     "data": {
      "text/plain": "tensor([[ 4,  2, 16,  7,  9,  4,  5,  5,  6, 10],\n        [ 4,  5, 20,  1,  3,  7,  0,  5,  8, 12],\n        [ 2,  6, 10,  3,  3, 10,  9,  8,  8,  1],\n        [ 4,  9,  3,  8,  2,  3,  0,  8,  3,  8],\n        [ 2,  0,  6,  9,  5,  2,  9,  7, 16,  9]])"
     },
     "execution_count": 30,
     "metadata": {},
     "output_type": "execute_result"
    }
   ],
   "source": [
    "a1 = torch.randint(0, 11, size=[5, 10])\n",
    "a2 = torch.randint(0, 11, size=[5, 10])\n",
    "\n",
    "mask = a1 == a2\n",
    "a1[mask] = a1[mask] * 2\n",
    "a1"
   ],
   "metadata": {
    "collapsed": false
   }
  },
  {
   "cell_type": "markdown",
   "metadata": {
    "id": "Qe2oVr4p1RDJ"
   },
   "source": [
    "1.3.10 Заданы три двухмерных тензора `ar1`, `ar2` и `ar3` размерности (4, 7), состоящие из случайных целых чисел в пределах от 0 до 10. Обнулить все элементы `ar1`, которые больше соответствующих (находящихся в соответствующих позициях) элементов `ar2` и меньше соответствующих элементов `ar3`."
   ]
  },
  {
   "cell_type": "code",
   "execution_count": 31,
   "outputs": [
    {
     "data": {
      "text/plain": "tensor([[ 2,  4,  4,  1, 10,  0,  3],\n        [ 4,  3,  5,  1,  0,  2,  0],\n        [ 4,  8,  0,  5,  1,  7,  0],\n        [ 3,  8,  9,  0,  9, 10,  5]])"
     },
     "execution_count": 31,
     "metadata": {},
     "output_type": "execute_result"
    }
   ],
   "source": [
    "a1 = torch.randint(0, 11, size=[4, 7])\n",
    "a2 = torch.randint(0, 11, size=[4, 7])\n",
    "a3 = torch.randint(0, 11, size=[4, 7])\n",
    "\n",
    "mask = (a1 > a2) & (a1 < a3)\n",
    "a1[mask] = 0\n",
    "a1"
   ],
   "metadata": {
    "collapsed": false
   }
  },
  {
   "cell_type": "markdown",
   "metadata": {
    "id": "BTcRVeYh1RDK"
   },
   "source": [
    "1.3.11 Задан двумерный тензор `ar1` размерности (20, 5), состоящий из случайных целых чисел в пределах от 0 до 20. Определить, в каких столбцах не менее 5 раз встречается значение, максимальное по своей строке."
   ]
  },
  {
   "cell_type": "code",
   "execution_count": 34,
   "outputs": [
    {
     "data": {
      "text/plain": "tensor([4])"
     },
     "execution_count": 34,
     "metadata": {},
     "output_type": "execute_result"
    }
   ],
   "source": [
    "a1 = torch.randint(0, 21, size=(20, 5))\n",
    "condition = (a1.T == a1.max(axis=1).values).T.sum(axis=0) > 5\n",
    "res = condition.nonzero(as_tuple=True)\n",
    "res[0]"
   ],
   "metadata": {
    "collapsed": false
   }
  },
  {
   "cell_type": "markdown",
   "metadata": {
    "id": "ZeYlNWNE1RDK"
   },
   "source": [
    "1.3.12 Задан двумерный тензор `ar1` размерности (4, 7), состоящий из случайных  чисел в пределах от 0 до 1. Обнулить все значения в массиве, расположенные строго правее и ниже максимального элемента массива."
   ]
  },
  {
   "cell_type": "code",
   "execution_count": 35,
   "outputs": [
    {
     "name": "stdout",
     "output_type": "stream",
     "text": [
      "tensor([[0.6680, 0.3212, 0.0305, 0.3729, 0.0882, 0.2527, 0.7873],\n",
      "        [0.2009, 0.3320, 0.7609, 0.1593, 0.9527, 0.4288, 0.6641],\n",
      "        [0.1063, 0.6724, 0.1030, 0.7114, 0.1477, 0.0177, 0.1448],\n",
      "        [0.8965, 0.0531, 0.4585, 0.5975, 0.0947, 0.5408, 0.6965]])\n",
      "0.9527154564857483\n"
     ]
    },
    {
     "data": {
      "text/plain": "tensor([[0.6680, 0.3212, 0.0305, 0.3729, 0.0882, 0.2527, 0.7873],\n        [0.2009, 0.3320, 0.7609, 0.1593, 0.9527, 0.4288, 0.6641],\n        [0.1063, 0.6724, 0.1030, 0.7114, 0.1477, 0.0000, 0.0000],\n        [0.8965, 0.0531, 0.4585, 0.5975, 0.0947, 0.0000, 0.0000]])"
     },
     "execution_count": 35,
     "metadata": {},
     "output_type": "execute_result"
    }
   ],
   "source": [
    "ar1 = torch.rand((4, 7))\n",
    "print(ar1)\n",
    "maximum = ar1.max().item()\n",
    "print(maximum)\n",
    "\n",
    "ar1[(ar1 == maximum).nonzero(as_tuple=True)[0][0] + 1:, (ar1 == maximum).nonzero(as_tuple=True)[1][0] + 1:] = 0\n",
    "ar1"
   ],
   "metadata": {
    "collapsed": false
   }
  },
  {
   "cell_type": "markdown",
   "metadata": {
    "id": "pYxX90B11RDL"
   },
   "source": [
    "1.3.13 Построить \"one-hot encoding\" для одномерного тензора, содержащего целые числа (длина вектора заранее неизвестна, набор значений заранее неизвестен, при этом в итоговой матрице должны присутствовать столбцы для всех натуральных чисел вплоть до максимального встречающегося в исходном массиве).\n",
    "\n",
    "Пример:\n",
    "\n",
    "для тензора `torch.tensor([2, 3, 2, 2, 2, 1])`.\n",
    "\n",
    "Ожидается результат:\n",
    "\n",
    "```python\n",
    "tensor([[0., 1., 0.],\n",
    "        [0., 0., 1.],\n",
    "        [0., 1., 0.],\n",
    "        [0., 1., 0.],\n",
    "        [0., 1., 0.],\n",
    "        [1., 0., 0.]])\n",
    "```"
   ]
  },
  {
   "cell_type": "code",
   "execution_count": 36,
   "outputs": [
    {
     "data": {
      "text/plain": "tensor([[0., 1., 0.],\n        [0., 0., 1.],\n        [0., 1., 0.],\n        [0., 1., 0.],\n        [0., 1., 0.],\n        [1., 0., 0.]])"
     },
     "execution_count": 36,
     "metadata": {},
     "output_type": "execute_result"
    }
   ],
   "source": [
    "arr = torch.tensor([2, 3, 2, 2, 2, 1])\n",
    "res = torch.zeros(arr.size()[0], arr.max())\n",
    "res[torch.arange(arr.size()[0]), arr-1] = 1\n",
    "res"
   ],
   "metadata": {
    "collapsed": false
   }
  },
  {
   "cell_type": "markdown",
   "metadata": {
    "id": "GYU8DmNTDLN8"
   },
   "source": [
    "1.3.14 Создать тензор `arr` из 20 случайных целых чисел от 0 до 100. Найти самое частое значение в тензоре. \n",
    "Найти индексы в тензоре, соответствующие самому частому значению. Проверить, как работет алгоритм при двух значениях, имеющих наибольшую встречаемость, предложить приемлемое поведение алгоритма для этого случая."
   ]
  },
  {
   "cell_type": "code",
   "execution_count": 37,
   "outputs": [
    {
     "name": "stdout",
     "output_type": "stream",
     "text": [
      "tensor([95, 22, 59, 95,  2, 56, 72, 47,  4, 68, 44, 53,  3, 17, 12, 23, 18,  6,\n",
      "        57, 18])\n",
      "tensor(18)\n"
     ]
    },
    {
     "data": {
      "text/plain": "[16, 19]"
     },
     "execution_count": 37,
     "metadata": {},
     "output_type": "execute_result"
    }
   ],
   "source": [
    "arr = torch.randint(0, 101, size=[20])\n",
    "print(arr)\n",
    "most_value = torch.mode(arr)[0]\n",
    "print(most_value)\n",
    "res = (arr == most_value).nonzero(as_tuple=True)[0].tolist()\n",
    "res"
   ],
   "metadata": {
    "collapsed": false
   }
  },
  {
   "cell_type": "markdown",
   "metadata": {
    "id": "UenAEfEG1RDN"
   },
   "source": [
    "## 1.4 Математические задачи"
   ]
  },
  {
   "cell_type": "markdown",
   "metadata": {
    "id": "6weDrqJR1RDN"
   },
   "source": [
    "1.4.1 Приблизительно (с погрешностью порядка 1%) рассчитать на какой части интервала от 0 до 10 значение функции x * sin(x) больше 0.5."
   ]
  },
  {
   "cell_type": "markdown",
   "metadata": {
    "id": "B9xAv8TR1RDN"
   },
   "source": [
    "1.4.2 Найти все простые числа в пределах ста. (Для решения предлагается использовать Решето Эратосфена) Использовать не более 1 цикла (желательно)."
   ]
  },
  {
   "cell_type": "markdown",
   "metadata": {
    "id": "AHupFoTR1RDN"
   },
   "source": [
    "1.4.3 Найти евклидово расстояние между двумя одномерными тензорами одинаковой размерности, не используя готовые решения из библиотек."
   ]
  },
  {
   "cell_type": "markdown",
   "metadata": {
    "id": "j-ZvjWDKDVMQ"
   },
   "source": [
    "1.4.4 Создать двумерный тензор 20 на 3, содержащий случайные целые числа от 0 до 100. \n",
    "Интерпретируя тензор как 20 векторов из 3х компонент, отсортировать его по длине векторов."
   ]
  },
  {
   "cell_type": "markdown",
   "metadata": {
    "id": "IkBRFTKa1RDO"
   },
   "source": [
    "1.4.5 Найти \"локальные максимумы\" в одномерном тензоре (т.е. значения, большие предыдущего и последующего) `torch.tensor([1, 3, 7, 1, 2, 6, 0, 1])` и вывести их индексы."
   ]
  },
  {
   "cell_type": "markdown",
   "metadata": {
    "id": "VXD58rlc1RDP"
   },
   "source": [
    "1.4.6 Задан произвольный массив numpy (например массив из 100 случайных числе от 0 до 1). Необходимо найти в нем число наиболее близкое к заданному."
   ]
  },
  {
   "cell_type": "markdown",
   "metadata": {
    "id": "81F_B2ij1RDP"
   },
   "source": [
    "1.4.7 Решить матричное уравнение `A*X*B=-C` - найти матрицу X. Где `A = [[-1, 2, 4], [-3, 1, 2], [-3, 0, 1]]`, `B=[[3, -1], [2, 1]]`, `C=[[7, 21], [11, 8], [8, 4]]`."
   ]
  },
  {
   "cell_type": "markdown",
   "metadata": {
    "id": "1P7O19bj1RDP"
   },
   "source": [
    "1.4.8 Проверить, является ли система векторов a1 = (3; −3; 0; 7),\n",
    "a2 = (2; 2; 4; 7), a3 = (1; 2; 3; 4), a4 = (5; −4; 1; 3) линейно зависимой?"
   ]
  },
  {
   "cell_type": "markdown",
   "metadata": {
    "id": "Jg_bzMVS1RDQ"
   },
   "source": [
    "1.4.9 Сгенирировать тензор из 200 случайных целых чисел, нормально распрделенных cо стандартным отклонением $\\sigma = 10$ и матожиданием $\\mu = 0$. Построить тензор гистограммы с 20 бинами. "
   ]
  }
 ],
 "metadata": {
  "colab": {
   "name": "01_tensor_v1_blank.ipynb",
   "provenance": [],
   "toc_visible": true
  },
  "kernelspec": {
   "display_name": "Python 3 (ipykernel)",
   "language": "python",
   "name": "python3"
  },
  "language_info": {
   "codemirror_mode": {
    "name": "ipython",
    "version": 3
   },
   "file_extension": ".py",
   "mimetype": "text/x-python",
   "name": "python",
   "nbconvert_exporter": "python",
   "pygments_lexer": "ipython3",
   "version": "3.9.13"
  }
 },
 "nbformat": 4,
 "nbformat_minor": 1
}
