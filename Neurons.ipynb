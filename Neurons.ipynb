{
 "cells": [
  {
   "cell_type": "code",
   "execution_count": null,
   "id": "d2cc2bd0",
   "metadata": {
    "pycharm": {
     "is_executing": true
    }
   },
   "outputs": [],
   "source": [
    "import torch"
   ]
  },
  {
   "cell_type": "code",
   "execution_count": null,
   "id": "0237590f",
   "metadata": {
    "pycharm": {
     "is_executing": true
    }
   },
   "outputs": [],
   "source": [
    "class ELU:\n",
    "    def __init__(self, alpha):\n",
    "        self.alpha = alpha\n",
    "    \n",
    "    def forward(self, inputs):\n",
    "        inputs[inputs < 0] = (torch.exp(inputs[inputs < 0]) - 1) * self.alpha\n",
    "        return inputs\n",
    "\n",
    "elu = ELU(alpha = 1)\n",
    "matr = torch.randn((4, 3))\n",
    "print(\"Начальная матрица:\\n\", matr)\n",
    "\n",
    "res = elu.forward(matr)\n",
    "print(\"После функции активации:\\n\", res)"
   ]
  },
  {
   "cell_type": "code",
   "execution_count": null,
   "id": "2bcfc87b",
   "metadata": {
    "pycharm": {
     "is_executing": true
    }
   },
   "outputs": [],
   "source": [
    "class Linear:\n",
    "    def __init__(self, weights, biases):\n",
    "        self.weights = weights\n",
    "        self.biases = biases\n",
    "    def forward(self, inputs):\n",
    "        return torch.matmul(inputs, self.weights) + self.biases"
   ]
  },
  {
   "cell_type": "code",
   "execution_count": null,
   "id": "2fcface0",
   "metadata": {
    "pycharm": {
     "is_executing": true
    }
   },
   "outputs": [],
   "source": [
    "class Linear:\n",
    "    def __init__(self, weights, biases):\n",
    "        self.weights = weights\n",
    "        self.biases = biases\n",
    "    def forward(self, inputs):\n",
    "        return torch.matmul(inputs, self.weights) + self.biases\n",
    "class MSELoss:\n",
    "    def forward(self, y_pred, y_true):\n",
    "        return ((y_true - y_pred) ** 2).mean()\n",
    "    \n",
    "inputs = torch.tensor([[1, 2, 3, 2.5], \n",
    "                       [2, 5, -1, 2], \n",
    "                       [-1.5, 2.7, 3.3, -8]])\n",
    "\n",
    "y = torch.tensor([2, 3, 4])\n",
    "\n",
    "linear_layer = Linear(4, 1)\n",
    "mse_loss = MSELoss()\n",
    "res = mse_loss.forward(linear_layer.forward(inputs), y)\n",
    "print(f'MSE: {res}')"
   ]
  },
  {
   "cell_type": "code",
   "execution_count": null,
   "id": "1fd4b8d0",
   "metadata": {
    "pycharm": {
     "is_executing": true
    }
   },
   "outputs": [],
   "source": [
    "class Linear:\n",
    "    def __init__(self, n_features, n_neurons):\n",
    "        # <создать атрибуты объекта weights и biases>\n",
    "        self.weights = torch.randn(n_features, n_neurons)\n",
    "        self.biases = torch.randn(n_neurons)\n",
    "    \n",
    "    def forward(self, inputs):\n",
    "        # <реализовать логику слоя>\n",
    "        return torch.matmul(inputs, self.weights) + self.biases"
   ]
  },
  {
   "cell_type": "code",
   "execution_count": null,
   "id": "a3791879",
   "metadata": {
    "pycharm": {
     "is_executing": true
    }
   },
   "outputs": [],
   "source": [
    "class Linear:\n",
    "    def __init__(self, n_features, n_neurons):\n",
    "        self.weights = torch.randn(n_features, n_neurons)\n",
    "        self.biases = torch.randn(n_neurons)\n",
    "        pass\n",
    "\n",
    "    def forward(self, inputs):\n",
    "        return torch.matmul(inputs, self.weights) + self.biases"
   ]
  },
  {
   "cell_type": "code",
   "execution_count": null,
   "id": "fba624aa",
   "metadata": {
    "pycharm": {
     "is_executing": true
    }
   },
   "outputs": [],
   "source": [
    "class MSELoss:\n",
    "    def forward(self, y_pred, y_true):\n",
    "        return ((y_true - y_pred) ** 2).mean()"
   ]
  },
  {
   "cell_type": "code",
   "execution_count": null,
   "id": "13039862",
   "metadata": {
    "pycharm": {
     "is_executing": true
    }
   },
   "outputs": [],
   "source": [
    "inputs = torch.tensor([[ 0.0894,  0.5173,  0.0847, 1],\n",
    "                       [-0.4342, -1.3935, -1.3014, 2],\n",
    "                       [-0.5543, -1.0418,  2.1696, 3]])\n",
    "\n",
    "y = torch.tensor([2, 3, 4])"
   ]
  },
  {
   "cell_type": "code",
   "execution_count": null,
   "id": "342072a5",
   "metadata": {
    "pycharm": {
     "is_executing": true
    }
   },
   "outputs": [],
   "source": [
    "linear_layer = Linear(4, 1)\n",
    "\n",
    "mse_loss = MSELoss()\n",
    "res = mse_loss.forward(linear_layer.forward(inputs), y)\n",
    "print(f'MSE: {res}')"
   ]
  },
  {
   "cell_type": "code",
   "execution_count": null,
   "id": "5dfefa08",
   "metadata": {
    "pycharm": {
     "is_executing": true
    }
   },
   "outputs": [],
   "source": [
    "class Softmax:\n",
    "    def forward(self, inputs):\n",
    "        up = torch.exp(inputs)\n",
    "        down = torch.sum(torch.exp(inputs), dim = 1).view(-1, 1)\n",
    "        res = up / down\n",
    "        return res\n",
    "\n",
    "softmax = Softmax()\n",
    "matr = torch.randn((4, 3))\n",
    "print(\"Input:\\n\", matr)\n",
    "\n",
    "res = softmax.forward(matr)\n",
    "print(\"Output:\\n\", res)"
   ]
  },
  {
   "cell_type": "code",
   "execution_count": 55,
   "id": "8de9f4a8",
   "metadata": {},
   "outputs": [],
   "source": [
    "class CategoricalCrossentropyLoss:\n",
    "    def forward(self, y_pred, y_true):\n",
    "        return -1 * (y_true * torch.log(y_pred)).sum(1)\n",
    "inputs = torch.tensor([[ 0.0894,  0.5173,  0.0847, 1],\n",
    "                       [-0.4342, -1.3935, -1.3014, 2],\n",
    "                       [-0.5543, -1.0418,  2.1696, 3]])\n",
    "\n",
    "y = torch.tensor([2, 3, 4])"
   ]
  },
  {
   "cell_type": "code",
   "execution_count": 56,
   "id": "6d84b248",
   "metadata": {},
   "outputs": [
    {
     "name": "stdout",
     "output_type": "stream",
     "text": [
      "CCE loss: tensor([10.2444, 10.2394, 26.1289])\n"
     ]
    }
   ],
   "source": [
    "linear_layer = Linear(4, 3) \n",
    "\n",
    "softmax = Softmax() #из задания 2.2\n",
    "cce_loss = CategoricalCrossentropyLoss()\n",
    "res = cce_loss.forward(softmax.forward(linear_layer.forward(inputs)), y)\n",
    "print(f'CCE loss: {res}')"
   ]
  },
  {
   "cell_type": "code",
   "execution_count": 57,
   "id": "5e355b5d",
   "metadata": {},
   "outputs": [],
   "source": [
    "from sklearn.datasets import make_regression"
   ]
  },
  {
   "cell_type": "code",
   "execution_count": 63,
   "id": "89abcc29",
   "metadata": {},
   "outputs": [
    {
     "name": "stdout",
     "output_type": "stream",
     "text": [
      "tensor([[-0.5097, -0.4381, -1.2528,  0.7775],\n",
      "        [-0.6743,  0.0318, -0.6358,  0.6764],\n",
      "        [-0.8878, -1.9808, -0.3479,  0.1563],\n",
      "        [ 1.9559,  0.3901, -0.6524, -0.3910],\n",
      "        [ 0.0977,  0.5830, -0.3994,  0.3701],\n",
      "        [-1.8431, -0.4780, -0.4797,  0.6204],\n",
      "        [ 0.8416, -0.2495,  0.0495,  0.4938],\n",
      "        [-0.7196, -0.8130,  0.2745, -0.8909],\n",
      "        [-0.0157,  0.1609, -0.1907, -0.3948],\n",
      "        [-0.3090, -1.6760,  1.1523,  1.0796],\n",
      "        [-0.7256, -1.3834, -1.5829,  0.6104],\n",
      "        [ 2.3039, -1.0600, -0.1359,  1.1369],\n",
      "        [ 0.5766, -0.2083,  0.3960, -1.0931],\n",
      "        [ 1.4941, -0.2052,  0.3131, -0.8541],\n",
      "        [-0.3534, -1.6165, -0.2918, -0.7615],\n",
      "        [ 0.0665,  0.3025, -0.6343, -0.3627],\n",
      "        [-0.2677, -1.1280,  0.2804, -0.9931],\n",
      "        [-0.5973, -0.2379, -1.4241, -0.4933],\n",
      "        [ 0.6433, -1.5706, -0.2069,  0.8802],\n",
      "        [ 1.8832, -1.3478, -1.2705,  0.9694],\n",
      "        [-0.9073,  0.0519,  0.7291,  0.1290],\n",
      "        [-0.1105,  1.0202, -0.6920,  1.5364],\n",
      "        [-1.1574, -0.3123, -0.1577,  2.2567],\n",
      "        [ 0.0105,  1.7859,  0.1269,  0.4020],\n",
      "        [-1.1651,  0.9008,  0.4657, -1.5362],\n",
      "        [-0.4409, -0.2804, -0.3647,  0.1567],\n",
      "        [ 1.9229,  1.4805,  1.8676,  0.9060],\n",
      "        [-0.8034, -0.6895, -0.4555,  0.0175],\n",
      "        [-1.4913,  0.4394,  0.1667,  0.6350],\n",
      "        [ 0.7610,  0.1217,  0.4439,  0.3337],\n",
      "        [ 1.1880,  0.3169,  0.9209,  0.3187],\n",
      "        [-1.5408,  0.0633,  0.1565,  0.2322],\n",
      "        [-1.9363,  0.1888,  0.5239,  0.0884],\n",
      "        [ 0.2083,  0.9766,  0.3564,  0.7066],\n",
      "        [ 0.7733, -1.1839, -2.6592,  0.6063],\n",
      "        [ 0.2799, -0.0982,  0.9102,  0.3172],\n",
      "        [-0.5429,  0.4161, -1.1562,  0.7812],\n",
      "        [ 1.5328,  1.4694,  0.1549,  0.3782],\n",
      "        [-1.2254,  0.8444, -1.0002, -1.5448],\n",
      "        [-0.3540, -1.3750, -0.6436, -2.2234],\n",
      "        [ 0.6985,  0.0038,  0.9318,  0.3400],\n",
      "        [-0.9559, -0.3460, -0.4636,  0.4815],\n",
      "        [-0.8612,  1.9101, -0.2680,  0.8025],\n",
      "        [ 0.6938, -0.1596, -0.1337,  1.0777],\n",
      "        [ 0.6252, -1.6021, -1.1044,  0.0522],\n",
      "        [-0.7047,  0.9433,  0.7472, -1.1889],\n",
      "        [ 2.3831,  0.9445, -0.9128,  1.1170],\n",
      "        [-0.3109,  0.0974,  0.3990, -2.7726],\n",
      "        [-0.8708, -0.5788, -0.3116,  0.0562],\n",
      "        [-1.0708,  1.0545, -0.4032,  1.2224],\n",
      "        [ 1.1266, -1.0799, -1.1475, -0.4378],\n",
      "        [ 0.4937, -0.1161, -2.0307,  2.0645],\n",
      "        [-0.0170,  0.3792,  2.2593, -0.0423],\n",
      "        [ 1.7641,  0.4002,  0.9787,  2.2409],\n",
      "        [ 0.5785,  0.3497, -0.7641, -1.4378],\n",
      "        [-1.6139, -0.2127, -0.8955,  0.3869],\n",
      "        [ 1.6481,  0.1642,  0.5673, -0.2227],\n",
      "        [-0.6374, -0.3973, -0.1329, -0.2978],\n",
      "        [ 0.1774, -0.4018, -1.6302,  0.4628],\n",
      "        [ 0.2863,  0.6088, -1.0453,  1.2111],\n",
      "        [ 0.6723,  0.4075, -0.7699,  0.5392],\n",
      "        [-0.6946, -0.1496, -0.4352,  1.8493],\n",
      "        [ 0.7718,  0.8235,  2.1632,  1.3365],\n",
      "        [ 1.4945, -2.0700,  0.4263,  0.6769],\n",
      "        [-1.3159, -0.4616, -0.0682,  1.7133],\n",
      "        [ 0.1420, -0.3193,  0.6915,  0.6947],\n",
      "        [-0.6725, -0.3596, -0.8131, -1.7263],\n",
      "        [-1.7559,  0.4509, -0.6840,  1.6596],\n",
      "        [ 0.3764, -1.0994,  0.2982,  1.3264],\n",
      "        [-1.1731,  1.9436, -0.4136, -0.7475],\n",
      "        [-0.4980,  1.9295,  0.9494,  0.0876],\n",
      "        [-0.0393, -1.1681,  0.5233, -0.1715],\n",
      "        [-1.6981,  0.3873, -2.2556, -1.0225],\n",
      "        [-0.5108, -1.1806, -0.0282,  0.4283],\n",
      "        [ 1.1394, -1.2348,  0.4023, -0.6848],\n",
      "        [ 1.4883,  1.8959,  1.1788, -0.1799],\n",
      "        [-1.1268, -0.7307, -0.3849,  0.0944],\n",
      "        [-0.7396,  1.5430, -1.2929,  0.2671],\n",
      "        [ 1.3645, -0.6894, -0.6523, -0.5212],\n",
      "        [-0.8134, -1.4664,  0.5211, -0.5758],\n",
      "        [-0.0422, -0.2869, -0.0616, -0.1073],\n",
      "        [ 0.8568, -0.6510, -1.0342,  0.6816],\n",
      "        [-1.1889, -0.5068, -0.5963, -0.0526],\n",
      "        [ 0.7863, -0.4664, -0.9444, -0.4100],\n",
      "        [-2.5530,  0.6536,  0.8644, -0.7422],\n",
      "        [ 0.6898,  1.3018, -0.6281, -0.4810],\n",
      "        [ 1.2303,  1.2024, -0.3873, -0.3023],\n",
      "        [ 0.9473, -0.1550,  0.6141,  0.9222],\n",
      "        [ 0.6664, -0.4607, -1.3343, -1.3467],\n",
      "        [-0.1032,  0.4106,  0.1440,  1.4543],\n",
      "        [ 0.6401, -1.6170, -0.0243, -0.7380],\n",
      "        [-0.3692, -0.2394,  1.0997,  0.6553],\n",
      "        [ 1.0685, -0.4534, -0.6878, -1.2141],\n",
      "        [-1.3065,  1.6581, -0.1182, -0.6802],\n",
      "        [ 0.8579,  1.1411,  1.4666,  0.8526],\n",
      "        [ 0.0386, -1.6567, -0.9855, -1.4718],\n",
      "        [ 2.2698, -1.4544,  0.0458, -0.1872],\n",
      "        [-1.0486, -1.4200, -1.7063,  1.9508],\n",
      "        [ 1.8676, -0.9773,  0.9501, -0.1514],\n",
      "        [-0.7448, -0.8264, -0.0985, -0.6635]])\n"
     ]
    }
   ],
   "source": [
    "X, y, coef = make_regression(n_features=4, n_informative=4, coef=True, bias=0.5, random_state=0)\n",
    "\n",
    "X = torch.tensor(X, dtype=torch.float32)\n",
    "y = torch.tensor(y, dtype=torch.float32).view(-1, 1)\n",
    "print(X)"
   ]
  },
  {
   "cell_type": "code",
   "execution_count": null,
   "id": "1962bc91",
   "metadata": {},
   "outputs": [],
   "source": []
  }
 ],
 "metadata": {
  "kernelspec": {
   "display_name": "pyTorch_1_5v2",
   "language": "python",
   "name": "pytorch_1_5v2"
  },
  "language_info": {
   "codemirror_mode": {
    "name": "ipython",
    "version": 3
   },
   "file_extension": ".py",
   "mimetype": "text/x-python",
   "name": "python",
   "nbconvert_exporter": "python",
   "pygments_lexer": "ipython3",
   "version": "3.8.8"
  }
 },
 "nbformat": 4,
 "nbformat_minor": 5
}
