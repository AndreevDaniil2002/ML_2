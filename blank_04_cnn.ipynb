{
 "cells": [
  {
   "cell_type": "code",
   "execution_count": 1,
   "metadata": {
    "id": "u49LZV9dKFWi",
    "pycharm": {
     "name": "#%%\n"
    }
   },
   "outputs": [],
   "source": [
    "import matplotlib.pyplot as plt\n",
    "from torchvision import datasets, transforms\n",
    "import torchvision\n",
    "import torch\n",
    "import torch.nn as nn\n",
    "import torch.optim as optim\n",
    "from torch.utils.data import DataLoader, random_split\n",
    "import torch.nn.functional as F"
   ]
  },
  {
   "cell_type": "markdown",
   "metadata": {
    "id": "403Mis3LAgED",
    "pycharm": {
     "name": "#%% md\n"
    }
   },
   "source": [
    "## 1. Классификация предметов одежды (датасет Fashion MNIST)\n"
   ]
  },
  {
   "cell_type": "markdown",
   "metadata": {
    "id": "Mn6r8tMDQsaU",
    "pycharm": {
     "name": "#%% md\n"
    }
   },
   "source": [
    "\n",
    "### 1.1 Решить задачу классификации, не используя сверточные слои. \n",
    "* Предложить архитектуру модели для решения задачи\n",
    "* Посчитать количество параметров модели.\n",
    "* Обучить модель\n",
    "* Вывести график функции потерь по эпохам. \n",
    "* Используя тестовое множество\n",
    "\n",
    "  * Продемонстрировать работу модели: вывести несколько изображений, указать над ними правильный класс и класс, предсказанный моделью. \n",
    "\n",
    "  * Вывести матрицу ошибок.\n",
    "\n",
    "  * Вывести значение accuracy на тестовом множестве.\n",
    "* Сохранить модель"
   ]
  },
  {
   "cell_type": "code",
   "execution_count": null,
   "outputs": [],
   "source": [
    "MNIST_train = torchvision.datasets.FashionMNIST('./', download=True, train=True)\n",
    "MNIST_test = torchvision.datasets.FashionMNIST('./', download=True, train=False)"
   ],
   "metadata": {
    "collapsed": false,
    "pycharm": {
     "name": "#%%\n",
     "is_executing": true
    }
   }
  },
  {
   "cell_type": "code",
   "execution_count": 3,
   "outputs": [
    {
     "data": {
      "text/plain": "tensor([9, 0, 0,  ..., 3, 0, 5])"
     },
     "execution_count": 3,
     "metadata": {},
     "output_type": "execute_result"
    }
   ],
   "source": [
    "MNIST_train.targets"
   ],
   "metadata": {
    "collapsed": false,
    "pycharm": {
     "name": "#%%\n"
    }
   }
  },
  {
   "cell_type": "code",
   "execution_count": 5,
   "outputs": [],
   "source": [
    "X_train = MNIST_train.data.float()\n",
    "y_train = MNIST_train.targets\n",
    "X_test = MNIST_test.data.float()\n",
    "y_test = MNIST_test.targets"
   ],
   "metadata": {
    "collapsed": false,
    "pycharm": {
     "name": "#%%\n"
    }
   }
  },
  {
   "cell_type": "code",
   "execution_count": 16,
   "outputs": [
    {
     "data": {
      "text/plain": "tensor([[0., 0., 0.,  ..., 0., 0., 0.],\n        [0., 0., 0.,  ..., 0., 0., 0.],\n        [0., 0., 0.,  ..., 0., 0., 0.],\n        ...,\n        [0., 0., 0.,  ..., 0., 0., 0.],\n        [0., 0., 0.,  ..., 0., 0., 0.],\n        [0., 0., 0.,  ..., 0., 0., 0.]])"
     },
     "execution_count": 16,
     "metadata": {},
     "output_type": "execute_result"
    }
   ],
   "source": [
    "X_train = X_train.reshape([-1, 28 * 28])\n",
    "X_test = X_test.reshape([-1, 28 * 28])\n",
    "X_test"
   ],
   "metadata": {
    "collapsed": false,
    "pycharm": {
     "name": "#%%\n"
    }
   }
  },
  {
   "cell_type": "code",
   "execution_count": 15,
   "outputs": [
    {
     "data": {
      "text/plain": "10"
     },
     "execution_count": 15,
     "metadata": {},
     "output_type": "execute_result"
    }
   ],
   "source": [
    "len(MNIST_train.classes)"
   ],
   "metadata": {
    "collapsed": false,
    "pycharm": {
     "name": "#%%\n"
    }
   }
  },
  {
   "cell_type": "code",
   "execution_count": 7,
   "outputs": [],
   "source": [
    "class MNISTNet(torch.nn.Module):\n",
    "    def __init__(self, n_hidden_neurons, n_classes):\n",
    "        super(MNISTNet, self).__init__()\n",
    "        self.fc1 = torch.nn.Linear(28 * 28, n_hidden_neurons)\n",
    "        self.ac1 = torch.nn.Sigmoid()\n",
    "        self.fc2 = torch.nn.Linear(n_hidden_neurons, n_classes)\n",
    "\n",
    "    def forward(self, x):\n",
    "        x = self.fc1(x)\n",
    "        x = self.ac1(x)\n",
    "        x = self.fc2(x)\n",
    "        return x\n",
    "\n",
    "mnist_net = MNISTNet(56, 10)"
   ],
   "metadata": {
    "collapsed": false,
    "pycharm": {
     "name": "#%%\n"
    }
   }
  },
  {
   "cell_type": "code",
   "execution_count": 8,
   "outputs": [],
   "source": [
    "loss = torch.nn.CrossEntropyLoss()\n",
    "optimizer = torch.optim.Adam(mnist_net.parameters(), lr=1.0e-4)"
   ],
   "metadata": {
    "collapsed": false,
    "pycharm": {
     "name": "#%%\n"
    }
   }
  },
  {
   "cell_type": "code",
   "execution_count": 9,
   "outputs": [],
   "source": [
    "import numpy as np\n",
    "\n",
    "batch_size = 100\n",
    "\n",
    "test_accuracy_history = []\n",
    "test_loss_history = []\n",
    "\n",
    "X_test = X_test\n",
    "y_test = y_test\n",
    "\n",
    "for epoch in range(20):\n",
    "    order = np.random.permutation(len(X_train))\n",
    "\n",
    "    for start_index in range(0, len(X_train), batch_size):\n",
    "        optimizer.zero_grad()\n",
    "\n",
    "        batch_indexes = order[start_index:start_index+batch_size]\n",
    "\n",
    "        X_batch = X_train[batch_indexes]\n",
    "        y_batch = y_train[batch_indexes]\n",
    "        #print(X_batch.shape)\n",
    "        preds = mnist_net.forward(X_batch)\n",
    "\n",
    "        loss_value = loss(preds, y_batch)\n",
    "        loss_value.backward()\n",
    "\n",
    "        optimizer.step()\n",
    "\n",
    "    test_preds = mnist_net.forward(X_test)\n",
    "    test_loss_history.append(loss(test_preds, y_test))\n",
    "\n",
    "    accuracy = (test_preds.argmax(dim=1) == y_test).float().mean()\n",
    "    test_accuracy_history.append(accuracy)\n",
    "    #(accuracy)"
   ],
   "metadata": {
    "collapsed": false,
    "pycharm": {
     "name": "#%%\n"
    }
   }
  },
  {
   "cell_type": "code",
   "execution_count": 10,
   "outputs": [
    {
     "data": {
      "text/plain": "<Figure size 432x288 with 1 Axes>",
      "image/png": "[encoded data removed]"
     },
     "metadata": {
      "needs_background": "light"
     },
     "output_type": "display_data"
    }
   ],
   "source": [
    "with torch.no_grad():\n",
    "    plt.plot(test_loss_history)\n",
    "    plt.show()"
   ],
   "metadata": {
    "collapsed": false,
    "pycharm": {
     "name": "#%%\n"
    }
   }
  },
  {
   "cell_type": "code",
   "execution_count": 11,
   "outputs": [
    {
     "data": {
      "text/plain": "<Figure size 1080x216 with 4 Axes>",
      "image/png": "[encoded data removed]"
     },
     "metadata": {
      "needs_background": "light"
     },
     "output_type": "display_data"
    }
   ],
   "source": [
    "def show_sample(model, X, y, dataset):\n",
    "    y_pred = model.forward(X)\n",
    "    fig, ax = plt.subplots(1, 4, figsize=(15, 3))\n",
    "    for i in range(4):\n",
    "        ax[i].imshow(X[i].reshape(28, 28))\n",
    "        ax[i].set_title(f'predicted - {dataset.classes[y_pred[i].argmax()]}\\nreal - {dataset.classes[y[i]]}')\n",
    "\n",
    "show_sample(mnist_net, X_test, y_test, MNIST_test)"
   ],
   "metadata": {
    "collapsed": false,
    "pycharm": {
     "name": "#%%\n"
    }
   }
  },
  {
   "cell_type": "code",
   "execution_count": 17,
   "outputs": [
    {
     "data": {
      "text/plain": "<Figure size 720x504 with 2 Axes>",
      "image/png": "[encoded data removed]"
     },
     "metadata": {
      "needs_background": "light"
     },
     "output_type": "display_data"
    }
   ],
   "source": [
    "import seaborn as sns\n",
    "import pandas as pd\n",
    "def show_matrix(model, X, y, dataset):\n",
    "    heat_map_matrix = torch.zeros((len(dataset.classes), len(dataset.classes)))\n",
    "    y_pred = model.forward(X).argmax(axis=1)\n",
    "    for i in range(len(y)):\n",
    "        heat_map_matrix[y_pred[i], y[i]] += 1\n",
    "    heat_map_matrix = pd.DataFrame(heat_map_matrix, columns=dataset.classes)\n",
    "    heat_map_matrix.index = dataset.classes\n",
    "\n",
    "    plt.figure(1, (10, 7))\n",
    "    sns.heatmap(heat_map_matrix, annot=True, fmt='g')\n",
    "    plt.show()\n",
    "\n",
    "show_matrix(mnist_net, X_test, y_test, MNIST_test)"
   ],
   "metadata": {
    "collapsed": false,
    "pycharm": {
     "name": "#%%\n"
    }
   }
  },
  {
   "cell_type": "markdown",
   "metadata": {
    "id": "GmsMQUPP-XUh",
    "pycharm": {
     "name": "#%% md\n"
    }
   },
   "source": [
    "### 1.2 Решить задачу 1.1, используя сверточную нейронную сеть. \n",
    "* Добиться значения accuracy на тестовом множестве не менее 90%\n",
    "* Визуализировать результаты работы первого сверточного слоя"
   ]
  },
  {
   "cell_type": "code",
   "execution_count": 27,
   "outputs": [],
   "source": [
    "X_train = MNIST_train.data.float()\n",
    "y_train = MNIST_train.targets\n",
    "X_test = MNIST_test.data.float()\n",
    "y_test = MNIST_test.targets\n",
    "\n",
    "X_train = X_train.unsqueeze(1).float()\n",
    "X_test = X_test.unsqueeze(1).float()"
   ],
   "metadata": {
    "collapsed": false,
    "pycharm": {
     "name": "#%%\n"
    }
   }
  },
  {
   "cell_type": "code",
   "execution_count": 28,
   "outputs": [
    {
     "data": {
      "text/plain": "10"
     },
     "execution_count": 28,
     "metadata": {},
     "output_type": "execute_result"
    }
   ],
   "source": [
    "len(MNIST_train.classes)"
   ],
   "metadata": {
    "collapsed": false,
    "pycharm": {
     "name": "#%%\n"
    }
   }
  },
  {
   "cell_type": "code",
   "execution_count": 29,
   "outputs": [],
   "source": [
    "class MNIST_ConV(torch.nn.Module):\n",
    "    def __init__(self):\n",
    "        super(MNIST_ConV, self).__init__()\n",
    "\n",
    "        self.conv1 = torch.nn.Conv2d(\n",
    "            in_channels=1, out_channels=6, kernel_size=5, padding=2)\n",
    "        self.act1  = torch.nn.Tanh()\n",
    "        self.pool1 = torch.nn.AvgPool2d(kernel_size=2, stride=2)\n",
    "\n",
    "        self.conv2 = torch.nn.Conv2d(\n",
    "            in_channels=6, out_channels=16, kernel_size=5, padding=0)\n",
    "        self.act2  = torch.nn.Tanh()\n",
    "        self.pool2 = torch.nn.AvgPool2d(kernel_size=2, stride=2)\n",
    "\n",
    "        self.fc1   = torch.nn.Linear(5 * 5 * 16, 80)\n",
    "        self.act3  = torch.nn.Tanh()\n",
    "\n",
    "        self.fc2   = torch.nn.Linear(80, 40)\n",
    "        self.act4  = torch.nn.Tanh()\n",
    "\n",
    "        self.fc3   = torch.nn.Linear(40, 10)\n",
    "\n",
    "    def forward(self, x):\n",
    "\n",
    "        x = self.conv1(x)\n",
    "        x = self.act1(x)\n",
    "        x = self.pool1(x)\n",
    "\n",
    "        x = self.conv2(x)\n",
    "        x = self.act2(x)\n",
    "        x = self.pool2(x)\n",
    "\n",
    "        x = x.view(x.size(0), x.size(1) * x.size(2) * x.size(3))\n",
    "\n",
    "        x = self.fc1(x)\n",
    "        x = self.act3(x)\n",
    "        x = self.fc2(x)\n",
    "        x = self.act4(x)\n",
    "        x = self.fc3(x)\n",
    "\n",
    "        return x\n",
    "\n",
    "mnist_conv = MNIST_ConV()"
   ],
   "metadata": {
    "collapsed": false,
    "pycharm": {
     "name": "#%%\n"
    }
   }
  },
  {
   "cell_type": "code",
   "execution_count": 30,
   "outputs": [],
   "source": [
    "loss = torch.nn.CrossEntropyLoss()\n",
    "optimizer = torch.optim.Adam(mnist_conv.parameters(), lr=1.0e-3)"
   ],
   "metadata": {
    "collapsed": false,
    "pycharm": {
     "name": "#%%\n"
    }
   }
  },
  {
   "cell_type": "code",
   "execution_count": 32,
   "outputs": [],
   "source": [
    "batch_size = 100\n",
    "\n",
    "test_accuracy_history = []\n",
    "test_loss_history = []\n",
    "\n",
    "for epoch in range(20):\n",
    "    order = np.random.permutation(len(X_train))\n",
    "\n",
    "    for start_index in range(0, len(X_train), batch_size):\n",
    "        optimizer.zero_grad()\n",
    "\n",
    "        batch_indexes = order[start_index:start_index+batch_size]\n",
    "\n",
    "        X_batch = X_train[batch_indexes]\n",
    "        y_batch = y_train[batch_indexes]\n",
    "\n",
    "        preds = mnist_conv.forward(X_batch)\n",
    "\n",
    "        loss_value = loss(preds, y_batch)\n",
    "        loss_value.backward()\n",
    "\n",
    "        optimizer.step()\n",
    "\n",
    "    test_preds = mnist_conv.forward(X_test)\n",
    "    test_loss_history.append(loss(test_preds, y_test))\n",
    "\n",
    "    accuracy = (test_preds.argmax(dim=1) == y_test).float().mean()\n",
    "    test_accuracy_history.append(accuracy)\n",
    "    #print(accuracy)"
   ],
   "metadata": {
    "collapsed": false,
    "pycharm": {
     "name": "#%%\n"
    }
   }
  },
  {
   "cell_type": "code",
   "execution_count": 33,
   "outputs": [
    {
     "data": {
      "text/plain": "<Figure size 432x288 with 1 Axes>",
      "image/png": "[encoded data removed]"
     },
     "metadata": {
      "needs_background": "light"
     },
     "output_type": "display_data"
    }
   ],
   "source": [
    "with torch.no_grad():\n",
    "    plt.plot(test_loss_history)\n",
    "    plt.show()"
   ],
   "metadata": {
    "collapsed": false,
    "pycharm": {
     "name": "#%%\n"
    }
   }
  },
  {
   "cell_type": "code",
   "execution_count": 35,
   "outputs": [
    {
     "data": {
      "text/plain": "<Figure size 1080x216 with 4 Axes>",
      "image/png": "[encoded data removed]"
     },
     "metadata": {
      "needs_background": "light"
     },
     "output_type": "display_data"
    }
   ],
   "source": [
    "def show_sample(model, X, y, dataset):\n",
    "    y_pred = model.forward(X)\n",
    "    fig, ax = plt.subplots(1, 4, figsize=(15, 3))\n",
    "    for i in range(4):\n",
    "        ax[i].imshow(X[i].reshape(28, 28))\n",
    "        ax[i].set_title(f'predicted - {dataset.classes[y_pred[i].argmax()]}\\nreal - {dataset.classes[y[i]]}')\n",
    "\n",
    "show_sample(mnist_conv, X_test, y_test, MNIST_test)"
   ],
   "metadata": {
    "collapsed": false,
    "pycharm": {
     "name": "#%%\n"
    }
   }
  },
  {
   "cell_type": "code",
   "execution_count": 36,
   "outputs": [
    {
     "data": {
      "text/plain": "<Figure size 720x504 with 2 Axes>",
      "image/png": "[encoded data removed]"
     },
     "metadata": {
      "needs_background": "light"
     },
     "output_type": "display_data"
    }
   ],
   "source": [
    "import seaborn as sns\n",
    "import pandas as pd\n",
    "def show_matrix(model, X, y, dataset):\n",
    "    heat_map_matrix = torch.zeros((len(dataset.classes), len(dataset.classes)))\n",
    "    y_pred = model.forward(X).argmax(axis=1)\n",
    "    for i in range(len(y)):\n",
    "        heat_map_matrix[y_pred[i], y[i]] += 1\n",
    "    heat_map_matrix = pd.DataFrame(heat_map_matrix, columns=dataset.classes)\n",
    "    heat_map_matrix.index = dataset.classes\n",
    "\n",
    "    plt.figure(1, (10, 7))\n",
    "    sns.heatmap(heat_map_matrix, annot=True, fmt='g')\n",
    "    plt.show()\n",
    "\n",
    "show_matrix(mnist_conv, X_test, y_test, MNIST_test)"
   ],
   "metadata": {
    "collapsed": false,
    "pycharm": {
     "name": "#%%\n"
    }
   }
  },
  {
   "cell_type": "markdown",
   "metadata": {
    "id": "cm6_9B3ZKLq9",
    "pycharm": {
     "name": "#%% md\n"
    }
   },
   "source": [
    "##  2. Классификация изображений (датасет CIFAR 10) "
   ]
  },
  {
   "cell_type": "markdown",
   "metadata": {
    "id": "VNTZa9yWQvSF",
    "pycharm": {
     "name": "#%% md\n"
    }
   },
   "source": [
    "\n",
    "### 2.1 Решить задачу классификации, не используя сверточные слои. \n",
    "\n",
    "* Нормализовать данные (если необходимо)\n",
    "* Предложить архитектуру модели для решения задачи\n",
    "* Посчитать количество параметров модели.\n",
    "* Обучить модель\n",
    "* Вывести график функции потерь по эпохам. \n",
    "* Используя тестовое множество\n",
    "\n",
    "  * Продемонстрировать работу модели: вывести несколько изображений, указать над ними правильный класс и класс, предсказанный моделью. \n",
    "\n",
    "  * Вывести матрицу ошибок.\n",
    "\n",
    "  * Вывести значение accuracy на тестовом множестве.\n",
    "* Сохранить модель"
   ]
  },
  {
   "cell_type": "markdown",
   "metadata": {
    "id": "IIxHLbKcDCFA",
    "pycharm": {
     "name": "#%% md\n"
    }
   },
   "source": [
    "### 2.2 Решить задачу 2.1, используя сверточную нейронную сеть. \n",
    "* Добиться значения accuracy на тестовом множестве не менее 70%.\n",
    "* Визуализировать результаты работы первого сверточного слоя"
   ]
  },
  {
   "cell_type": "markdown",
   "metadata": {
    "id": "nPg8k4YTFOgc",
    "pycharm": {
     "name": "#%% md\n"
    }
   },
   "source": [
    "## 3. Загрузка изображений из внешних источников"
   ]
  },
  {
   "cell_type": "markdown",
   "metadata": {
    "id": "1hLnpe_570wd",
    "pycharm": {
     "name": "#%% md\n"
    }
   },
   "source": [
    "### 3.1 Решить задачу классификации обезьян (датасет [monkey.zip](https://disk.yandex.ru/d/OxYgY4S7aR6ulQ)).\n",
    "* Загрузить архив с данными на диск\n",
    "* Создать датасет на основе файлов при помощи `torchvision.datasets.ImageFolder`\n",
    "* Преобразовать изображения к тензорами одного размера (например, 400х400). Потестировать другие преобразования из `torchvision.transforms`\n",
    "* Предложить архитектуру модели для решения задачи. Обучить модель.\n",
    "* Используя тестовое множество\n",
    "\n",
    "  * Продемонстрировать работу модели: вывести несколько изображений, указать над ними правильный класс и класс, предсказанный моделью. \n",
    "\n",
    "  * Вывести матрицу ошибок.\n",
    "\n",
    "  * Вывести значение accuracy на тестовом множестве.\n",
    "  * Добиться значения accuracy на тестовом множестве не менее 60%"
   ]
  },
  {
   "cell_type": "code",
   "execution_count": 4,
   "metadata": {
    "colab": {
     "base_uri": "https://localhost:8080/"
    },
    "executionInfo": {
     "elapsed": 506,
     "status": "ok",
     "timestamp": 1616695933807,
     "user": {
      "displayName": "Никита Блохин",
      "photoUrl": "",
      "userId": "16402972581398673009"
     },
     "user_tz": -180
    },
    "id": "iXnzblkFFN5K",
    "outputId": "cbbabfdc-a8c4-41c6-86a8-f7e99748a612",
    "pycharm": {
     "name": "#%%\n"
    }
   },
   "outputs": [
    {
     "ename": "ModuleNotFoundError",
     "evalue": "No module named 'google'",
     "output_type": "error",
     "traceback": [
      "\u001B[1;31m---------------------------------------------------------------------------\u001B[0m",
      "\u001B[1;31mModuleNotFoundError\u001B[0m                       Traceback (most recent call last)",
      "Input \u001B[1;32mIn [4]\u001B[0m, in \u001B[0;36m<cell line: 1>\u001B[1;34m()\u001B[0m\n\u001B[1;32m----> 1\u001B[0m \u001B[38;5;28;01mfrom\u001B[39;00m \u001B[38;5;21;01mgoogle\u001B[39;00m\u001B[38;5;21;01m.\u001B[39;00m\u001B[38;5;21;01mcolab\u001B[39;00m \u001B[38;5;28;01mimport\u001B[39;00m drive\n\u001B[0;32m      2\u001B[0m drive\u001B[38;5;241m.\u001B[39mmount(\u001B[38;5;124m'\u001B[39m\u001B[38;5;124m/content/drive\u001B[39m\u001B[38;5;124m'\u001B[39m)\n",
      "\u001B[1;31mModuleNotFoundError\u001B[0m: No module named 'google'"
     ]
    }
   ],
   "source": [
    "from google.colab import drive\n",
    "drive.mount('/content/drive')"
   ]
  },
  {
   "cell_type": "code",
   "execution_count": null,
   "metadata": {
    "colab": {
     "base_uri": "https://localhost:8080/"
    },
    "executionInfo": {
     "elapsed": 17268,
     "status": "ok",
     "timestamp": 1616695954172,
     "user": {
      "displayName": "Никита Блохин",
      "photoUrl": "",
      "userId": "16402972581398673009"
     },
     "user_tz": -180
    },
    "id": "4Er_FLV6Hrqq",
    "outputId": "5ece4316-16e6-458c-eb94-c0604e19ea24",
    "pycharm": {
     "name": "#%%\n"
    }
   },
   "outputs": [],
   "source": [
    "import zipfile\n",
    "from tqdm import tqdm\n",
    "\n",
    "zf = zipfile.ZipFile('drive/MyDrive/datasets/monkeys.zip')\n",
    "for file in tqdm(zf.infolist()):\n",
    "    zf.extract(file)"
   ]
  },
  {
   "cell_type": "markdown",
   "metadata": {
    "id": "5-tMy4qJ9j1k",
    "pycharm": {
     "name": "#%% md\n"
    }
   },
   "source": [
    "### 3.2 Решить задачу классификации собак и кошек (датасет [cats_dogs.zip](https://disk.yandex.ru/d/wQtt5O1JF9ctnA)).\n",
    "* Загрузить архив с данными на диск\n",
    "* Создать датасет на основе файлов при помощи `torchvision.datasets.ImageFolder`\n",
    "* Преобразовать изображения к тензорами одного размера (например, 400х400). Потестировать другие преобразования из `torchvision.transforms`\n",
    "* Предложить архитектуру модели для решения задачи. Обучить модель.\n",
    "* Используя тестовое множество\n",
    "\n",
    "  * Продемонстрировать работу модели: вывести несколько изображений, указать над ними правильный класс и класс, предсказанный моделью. \n",
    "\n",
    "  * Вывести матрицу ошибок.\n",
    "\n",
    "  * Вывести значение accuracy на тестовом множестве.\n",
    "  * Добиться значения accuracy на тестовом множестве не менее 80%"
   ]
  },
  {
   "cell_type": "markdown",
   "metadata": {
    "id": "EqvleAgxfC6B",
    "pycharm": {
     "name": "#%% md\n"
    }
   },
   "source": [
    "# 4. Transfer Learning"
   ]
  },
  {
   "cell_type": "markdown",
   "metadata": {
    "id": "ZjNUwuho9tm9",
    "pycharm": {
     "name": "#%% md\n"
    }
   },
   "source": [
    "### 4.1 Решить задачу 3.1, воспользовавшись предобученной моделью VGG16\n",
    "* Загрузить данные для обучения\n",
    "* Преобразования: размер 224x224, нормализация с параметрами `mean=(0.485, 0.456, 0.406), std=(0.229, 0.224, 0.225)`\n",
    "* Заменить последний полносвязный слой модели в соответствии с задачей\n",
    "* Дообучить модель (не замораживать веса). Вычислить значение accuracy на тестовом множестве\n",
    "* Дообучить модель (заморозить все веса, кроме последнего блока слоев (`classifier`)). \n",
    "* Вычислить значение accuracy на тестовом множестве.\n"
   ]
  },
  {
   "cell_type": "markdown",
   "metadata": {
    "id": "Dt_hXy5a5CE8",
    "pycharm": {
     "name": "#%% md\n"
    }
   },
   "source": [
    "### 4.2 Решить задачу 3.2, воспользовавшись подходящей предобученной моделью\n",
    "* Не использовать VGG16 (вместо нее можно взять resnet18 или другую)\n",
    "* Загрузить данные для обучения\n",
    "* Преобразования: размер 224x224, нормализация с параметрами `mean=(0.485, 0.456, 0.406), std=(0.229, 0.224, 0.225)`\n",
    "* Заменить последний полносвязный слой модели в соответствии с задачей\n",
    "* Дообучить модель. \n",
    "* Вычислить значение accuracy на тестовом множестве (добиться значения не меньше 97-98%)"
   ]
  }
 ],
 "metadata": {
  "accelerator": "GPU",
  "colab": {
   "authorship_tag": "ABX9TyMF+zO/4VvRSXLWjIV8BHI2",
   "collapsed_sections": [],
   "name": "blank_04_cnn.ipynb",
   "provenance": [],
   "toc_visible": true
  },
  "kernelspec": {
   "display_name": "Python 3 (ipykernel)",
   "language": "python",
   "name": "python3"
  },
  "language_info": {
   "codemirror_mode": {
    "name": "ipython",
    "version": 3
   },
   "file_extension": ".py",
   "mimetype": "text/x-python",
   "name": "python",
   "nbconvert_exporter": "python",
   "pygments_lexer": "ipython3",
   "version": "3.9.13"
  }
 },
 "nbformat": 4,
 "nbformat_minor": 1
}